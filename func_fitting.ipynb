{
 "cells": [
  {
   "cell_type": "code",
   "execution_count": 2,
   "metadata": {},
   "outputs": [],
   "source": [
    "import numpy as np\n",
    "import os\n",
    "from tqdm import tqdm\n",
    "\n",
    "import OpenEXR\n",
    "import Imath\n",
    "from load_exr import read_exr_as_np"
   ]
  },
  {
   "cell_type": "code",
   "execution_count": 10,
   "metadata": {},
   "outputs": [],
   "source": [
    "def func_fitting(OBJECT, split, view_no, deg):\n",
    "    waves = [450, 500, 550, 600, 650]\n",
    "    data = []\n",
    "    waves_samples = range(450, 650+1, 10)\n",
    "    \n",
    "    for w in waves:\n",
    "        exr_path = f\"C:/Users/owner/Desktop/{OBJECT}/{w}/{split}/r_{view_no}.exr\"\n",
    "        exr_path = f\"C:/Users/owner/Desktop/{OBJECT}/{w}/r_{view_no}.exr\"\n",
    "        \n",
    "        exr_data = read_exr_as_np(exr_path)[0]\n",
    "        \n",
    "        W, H = exr_data.shape[:2]\n",
    "        data.append(exr_data)\n",
    "        \n",
    "    stokes = []\n",
    "    \n",
    "    \n",
    "    for k in tqdm([4, 7, 10, 13], desc='fit'):\n",
    "        \n",
    "        array = np.zeros((W, H, len(waves_samples))).astype(np.float32)\n",
    "        \n",
    "        for ii in range(H*W):\n",
    "            i, j = ii//W, ii%W\n",
    "            # for j in range(W):\n",
    "            xdata = np.array(waves)\n",
    "            ydata = np.array([data[0][i][j][k], data[1][i][j][k], data[2][i][j][k], data[3][i][j][k], data[4][i][j][k]])\n",
    "            poly = np.polyfit(xdata, ydata, deg)\n",
    "            \n",
    "            for w_i, w in enumerate(waves_samples):\n",
    "                array[i,j,w_i] = np.polyval(poly, w)\n",
    "                \n",
    "        stokes.append(array)\n",
    "        \n",
    "    # 4 x H x W x wavelength\n",
    "    for w_i, wavelength in enumerate(waves_samples):\n",
    "        save_path = f\"//jarvis.postech.ac.kr/workspace/youngchan/nepf/data/exr_fit/{OBJECT}/{split}/{wavelength}\"\n",
    "        os.makedirs(save_path, exist_ok=True)\n",
    "        \n",
    "        fname = os.path.join(save_path, f\"r_{view_no}.exr\")\n",
    "        s0, s1, s2, s3 = stokes[0][...,w_i], stokes[1][...,w_i], stokes[2][...,w_i], stokes[3][...,w_i]\n",
    "        \n",
    "        h = OpenEXR.Header(s0.shape[1], s0.shape[0])\n",
    "        ctype = Imath.Channel(Imath.PixelType(OpenEXR.FLOAT))\n",
    "        h[\"channels\"] = {\"s0\":ctype, \"s1\":ctype, \"s2\":ctype, \"s3\":ctype}\n",
    "        \n",
    "        exr = OpenEXR.OutputFile(fname, h)\n",
    "        exr.writePixels({'s0': s0.tostring(), 's1': s1.tostring(), 's2': s2.tostring(),  's3':s3.tostring()})\n",
    "        exr.close()"
   ]
  }
 ],
 "metadata": {
  "kernelspec": {
   "display_name": "Python 3.10.4 ('nerf')",
   "language": "python",
   "name": "python3"
  },
  "language_info": {
   "codemirror_mode": {
    "name": "ipython",
    "version": 3
   },
   "file_extension": ".py",
   "mimetype": "text/x-python",
   "name": "python",
   "nbconvert_exporter": "python",
   "pygments_lexer": "ipython3",
   "version": "3.10.4 | packaged by conda-forge | (main, Mar 30 2022, 08:38:02) [MSC v.1916 64 bit (AMD64)]"
  },
  "orig_nbformat": 4,
  "vscode": {
   "interpreter": {
    "hash": "ffce93c60a82b8abc630ab4dbd839a9da3f0e0189b09723a1e8665b7dfadaa62"
   }
  }
 },
 "nbformat": 4,
 "nbformat_minor": 2
}
